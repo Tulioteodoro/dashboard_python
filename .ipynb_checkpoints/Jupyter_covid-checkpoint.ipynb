{
 "cells": [
  {
   "cell_type": "markdown",
   "id": "8828407e",
   "metadata": {},
   "source": [
    "# Importando as bibliotecas necessárias "
   ]
  },
  {
   "cell_type": "code",
   "execution_count": 2,
   "id": "c3bd3e27",
   "metadata": {},
   "outputs": [],
   "source": [
    "import dash\n",
    "import dash_core_components as dcc\n",
    "from dash import dcc\n",
    "from dash.dependencies import Input, Output\n",
    "import dash_bootstrap_components as dbc\n"
   ]
  },
  {
   "cell_type": "code",
   "execution_count": 3,
   "id": "ce8baeee",
   "metadata": {},
   "outputs": [],
   "source": [
    "import plotly.express as px\n",
    "import plotly.graph_objects as go\n",
    "\n",
    "import numpy as np\n",
    "import pandas as pd\n",
    "import json\n"
   ]
  },
  {
   "cell_type": "markdown",
   "id": "8de9576a",
   "metadata": {},
   "source": [
    "Importando os dados para os dataframes. Os dados estão separados em 5 arquivos csv, faremos o import e depois a concatenação dos dados."
   ]
  },
  {
   "cell_type": "code",
   "execution_count": 7,
   "id": "7f71e0d8",
   "metadata": {},
   "outputs": [],
   "source": [
    "df1 = pd.read_csv(\"HIST_PAINEL_COVIDBR_2020_Parte1_15jun2022.csv\",sep=\";\")\n"
   ]
  },
  {
   "cell_type": "code",
   "execution_count": 16,
   "id": "cab3e253",
   "metadata": {},
   "outputs": [
    {
     "data": {
      "text/plain": [
       "(714481, 17)"
      ]
     },
     "execution_count": 16,
     "metadata": {},
     "output_type": "execute_result"
    }
   ],
   "source": [
    "df1.shape"
   ]
  },
  {
   "cell_type": "code",
   "execution_count": 8,
   "id": "9ef907f4",
   "metadata": {},
   "outputs": [],
   "source": [
    "df2 = pd.read_csv(\"HIST_PAINEL_COVIDBR_2020_Parte2_15jun2022.csv\",sep=\";\")"
   ]
  },
  {
   "cell_type": "code",
   "execution_count": 17,
   "id": "b9c49f5a",
   "metadata": {},
   "outputs": [
    {
     "data": {
      "text/plain": [
       "(859707, 17)"
      ]
     },
     "execution_count": 17,
     "metadata": {},
     "output_type": "execute_result"
    }
   ],
   "source": [
    "df2.shape"
   ]
  },
  {
   "cell_type": "code",
   "execution_count": 10,
   "id": "0dbeafd3",
   "metadata": {},
   "outputs": [],
   "source": [
    "df3 = pd.read_csv(\"HIST_PAINEL_COVIDBR_2021_Parte1_15jun2022.csv\",sep=\";\")"
   ]
  },
  {
   "cell_type": "code",
   "execution_count": 18,
   "id": "9dc5902b",
   "metadata": {},
   "outputs": [
    {
     "data": {
      "text/plain": [
       "(1017039, 17)"
      ]
     },
     "execution_count": 18,
     "metadata": {},
     "output_type": "execute_result"
    }
   ],
   "source": [
    "df3.shape"
   ]
  },
  {
   "cell_type": "code",
   "execution_count": 11,
   "id": "395658e3",
   "metadata": {},
   "outputs": [],
   "source": [
    "df4 = pd.read_csv(\"HIST_PAINEL_COVIDBR_2021_Parte2_15jun2022.csv\",sep=\";\")"
   ]
  },
  {
   "cell_type": "code",
   "execution_count": 19,
   "id": "c1b658b4",
   "metadata": {},
   "outputs": [
    {
     "data": {
      "text/plain": [
       "(1033896, 17)"
      ]
     },
     "execution_count": 19,
     "metadata": {},
     "output_type": "execute_result"
    }
   ],
   "source": [
    "df4.shape"
   ]
  },
  {
   "cell_type": "code",
   "execution_count": 12,
   "id": "2ceb578b",
   "metadata": {},
   "outputs": [],
   "source": [
    "df5 = pd.read_csv(\"HIST_PAINEL_COVIDBR_2022_Parte1_15jun2022.csv\",sep=\";\")"
   ]
  },
  {
   "cell_type": "code",
   "execution_count": 20,
   "id": "ce56d177",
   "metadata": {},
   "outputs": [
    {
     "data": {
      "text/plain": [
       "(932754, 17)"
      ]
     },
     "execution_count": 20,
     "metadata": {},
     "output_type": "execute_result"
    }
   ],
   "source": [
    "df5.shape"
   ]
  },
  {
   "cell_type": "markdown",
   "id": "810eb4b6",
   "metadata": {},
   "source": [
    "Agora que importamos os dados para os dataframes, faremos a concatenação."
   ]
  },
  {
   "cell_type": "code",
   "execution_count": 14,
   "id": "9f7d404a",
   "metadata": {},
   "outputs": [],
   "source": [
    "df = pd.concat([df1,df2,df3,df4,df5])\n"
   ]
  },
  {
   "cell_type": "code",
   "execution_count": 21,
   "id": "c3b5abd2",
   "metadata": {},
   "outputs": [
    {
     "data": {
      "text/plain": [
       "(4557877, 17)"
      ]
     },
     "execution_count": 21,
     "metadata": {},
     "output_type": "execute_result"
    }
   ],
   "source": [
    "df.shape"
   ]
  },
  {
   "cell_type": "code",
   "execution_count": 22,
   "id": "65b6792f",
   "metadata": {},
   "outputs": [
    {
     "data": {
      "text/html": [
       "<div>\n",
       "<style scoped>\n",
       "    .dataframe tbody tr th:only-of-type {\n",
       "        vertical-align: middle;\n",
       "    }\n",
       "\n",
       "    .dataframe tbody tr th {\n",
       "        vertical-align: top;\n",
       "    }\n",
       "\n",
       "    .dataframe thead th {\n",
       "        text-align: right;\n",
       "    }\n",
       "</style>\n",
       "<table border=\"1\" class=\"dataframe\">\n",
       "  <thead>\n",
       "    <tr style=\"text-align: right;\">\n",
       "      <th></th>\n",
       "      <th>regiao</th>\n",
       "      <th>estado</th>\n",
       "      <th>municipio</th>\n",
       "      <th>coduf</th>\n",
       "      <th>codmun</th>\n",
       "      <th>codRegiaoSaude</th>\n",
       "      <th>nomeRegiaoSaude</th>\n",
       "      <th>data</th>\n",
       "      <th>semanaEpi</th>\n",
       "      <th>populacaoTCU2019</th>\n",
       "      <th>casosAcumulado</th>\n",
       "      <th>casosNovos</th>\n",
       "      <th>obitosAcumulado</th>\n",
       "      <th>obitosNovos</th>\n",
       "      <th>Recuperadosnovos</th>\n",
       "      <th>emAcompanhamentoNovos</th>\n",
       "      <th>interior/metropolitana</th>\n",
       "    </tr>\n",
       "  </thead>\n",
       "  <tbody>\n",
       "    <tr>\n",
       "      <th>0</th>\n",
       "      <td>Brasil</td>\n",
       "      <td>NaN</td>\n",
       "      <td>NaN</td>\n",
       "      <td>76</td>\n",
       "      <td>NaN</td>\n",
       "      <td>NaN</td>\n",
       "      <td>NaN</td>\n",
       "      <td>2020-02-25</td>\n",
       "      <td>9</td>\n",
       "      <td>210147125.0</td>\n",
       "      <td>0.0</td>\n",
       "      <td>0</td>\n",
       "      <td>0</td>\n",
       "      <td>0</td>\n",
       "      <td>0.0</td>\n",
       "      <td>0.0</td>\n",
       "      <td>NaN</td>\n",
       "    </tr>\n",
       "    <tr>\n",
       "      <th>1</th>\n",
       "      <td>Brasil</td>\n",
       "      <td>NaN</td>\n",
       "      <td>NaN</td>\n",
       "      <td>76</td>\n",
       "      <td>NaN</td>\n",
       "      <td>NaN</td>\n",
       "      <td>NaN</td>\n",
       "      <td>2020-02-26</td>\n",
       "      <td>9</td>\n",
       "      <td>210147125.0</td>\n",
       "      <td>1.0</td>\n",
       "      <td>1</td>\n",
       "      <td>0</td>\n",
       "      <td>0</td>\n",
       "      <td>1.0</td>\n",
       "      <td>0.0</td>\n",
       "      <td>NaN</td>\n",
       "    </tr>\n",
       "  </tbody>\n",
       "</table>\n",
       "</div>"
      ],
      "text/plain": [
       "   regiao estado municipio  coduf  codmun  codRegiaoSaude nomeRegiaoSaude  \\\n",
       "0  Brasil    NaN       NaN     76     NaN             NaN             NaN   \n",
       "1  Brasil    NaN       NaN     76     NaN             NaN             NaN   \n",
       "\n",
       "         data  semanaEpi  populacaoTCU2019  casosAcumulado  casosNovos  \\\n",
       "0  2020-02-25          9       210147125.0             0.0           0   \n",
       "1  2020-02-26          9       210147125.0             1.0           1   \n",
       "\n",
       "   obitosAcumulado  obitosNovos  Recuperadosnovos  emAcompanhamentoNovos  \\\n",
       "0                0            0               0.0                    0.0   \n",
       "1                0            0               1.0                    0.0   \n",
       "\n",
       "   interior/metropolitana  \n",
       "0                     NaN  \n",
       "1                     NaN  "
      ]
     },
     "execution_count": 22,
     "metadata": {},
     "output_type": "execute_result"
    }
   ],
   "source": [
    "df.head(2)"
   ]
  },
  {
   "cell_type": "markdown",
   "id": "484a5d99",
   "metadata": {},
   "source": [
    "## Criando um dataframes somente com os estados"
   ]
  },
  {
   "cell_type": "markdown",
   "id": "34a0f154",
   "metadata": {},
   "source": [
    "Crio o dataframe df_states e insiro nele todos os dados do dataframe df, mas excluo as linhas onde na coluna estado possuam valores null"
   ]
  },
  {
   "cell_type": "code",
   "execution_count": 24,
   "id": "16671e6f",
   "metadata": {},
   "outputs": [],
   "source": [
    "df_states = df[(df[\"estado\"].notna()) & (df[\"codmun\"].isna())]"
   ]
  },
  {
   "cell_type": "code",
   "execution_count": 29,
   "id": "ba932289",
   "metadata": {},
   "outputs": [],
   "source": [
    "df_states2 = df[(df[\"estado\"].notna())]"
   ]
  },
  {
   "cell_type": "code",
   "execution_count": null,
   "id": "6c2f0259",
   "metadata": {},
   "outputs": [],
   "source": []
  },
  {
   "cell_type": "code",
   "execution_count": 27,
   "id": "851ecbcd",
   "metadata": {},
   "outputs": [
    {
     "data": {
      "text/html": [
       "<div>\n",
       "<style scoped>\n",
       "    .dataframe tbody tr th:only-of-type {\n",
       "        vertical-align: middle;\n",
       "    }\n",
       "\n",
       "    .dataframe tbody tr th {\n",
       "        vertical-align: top;\n",
       "    }\n",
       "\n",
       "    .dataframe thead th {\n",
       "        text-align: right;\n",
       "    }\n",
       "</style>\n",
       "<table border=\"1\" class=\"dataframe\">\n",
       "  <thead>\n",
       "    <tr style=\"text-align: right;\">\n",
       "      <th></th>\n",
       "      <th>regiao</th>\n",
       "      <th>estado</th>\n",
       "      <th>municipio</th>\n",
       "      <th>coduf</th>\n",
       "      <th>codmun</th>\n",
       "      <th>codRegiaoSaude</th>\n",
       "      <th>nomeRegiaoSaude</th>\n",
       "      <th>data</th>\n",
       "      <th>semanaEpi</th>\n",
       "      <th>populacaoTCU2019</th>\n",
       "      <th>casosAcumulado</th>\n",
       "      <th>casosNovos</th>\n",
       "      <th>obitosAcumulado</th>\n",
       "      <th>obitosNovos</th>\n",
       "      <th>Recuperadosnovos</th>\n",
       "      <th>emAcompanhamentoNovos</th>\n",
       "      <th>interior/metropolitana</th>\n",
       "    </tr>\n",
       "  </thead>\n",
       "  <tbody>\n",
       "    <tr>\n",
       "      <th>158</th>\n",
       "      <td>Norte</td>\n",
       "      <td>RO</td>\n",
       "      <td>NaN</td>\n",
       "      <td>11</td>\n",
       "      <td>NaN</td>\n",
       "      <td>NaN</td>\n",
       "      <td>NaN</td>\n",
       "      <td>2020-02-25</td>\n",
       "      <td>9</td>\n",
       "      <td>1777225.0</td>\n",
       "      <td>0.0</td>\n",
       "      <td>0</td>\n",
       "      <td>0</td>\n",
       "      <td>0</td>\n",
       "      <td>NaN</td>\n",
       "      <td>NaN</td>\n",
       "      <td>NaN</td>\n",
       "    </tr>\n",
       "    <tr>\n",
       "      <th>159</th>\n",
       "      <td>Norte</td>\n",
       "      <td>RO</td>\n",
       "      <td>NaN</td>\n",
       "      <td>11</td>\n",
       "      <td>NaN</td>\n",
       "      <td>NaN</td>\n",
       "      <td>NaN</td>\n",
       "      <td>2020-02-26</td>\n",
       "      <td>9</td>\n",
       "      <td>1777225.0</td>\n",
       "      <td>0.0</td>\n",
       "      <td>0</td>\n",
       "      <td>0</td>\n",
       "      <td>0</td>\n",
       "      <td>NaN</td>\n",
       "      <td>NaN</td>\n",
       "      <td>NaN</td>\n",
       "    </tr>\n",
       "    <tr>\n",
       "      <th>160</th>\n",
       "      <td>Norte</td>\n",
       "      <td>RO</td>\n",
       "      <td>NaN</td>\n",
       "      <td>11</td>\n",
       "      <td>NaN</td>\n",
       "      <td>NaN</td>\n",
       "      <td>NaN</td>\n",
       "      <td>2020-02-27</td>\n",
       "      <td>9</td>\n",
       "      <td>1777225.0</td>\n",
       "      <td>0.0</td>\n",
       "      <td>0</td>\n",
       "      <td>0</td>\n",
       "      <td>0</td>\n",
       "      <td>NaN</td>\n",
       "      <td>NaN</td>\n",
       "      <td>NaN</td>\n",
       "    </tr>\n",
       "    <tr>\n",
       "      <th>161</th>\n",
       "      <td>Norte</td>\n",
       "      <td>RO</td>\n",
       "      <td>NaN</td>\n",
       "      <td>11</td>\n",
       "      <td>NaN</td>\n",
       "      <td>NaN</td>\n",
       "      <td>NaN</td>\n",
       "      <td>2020-02-28</td>\n",
       "      <td>9</td>\n",
       "      <td>1777225.0</td>\n",
       "      <td>0.0</td>\n",
       "      <td>0</td>\n",
       "      <td>0</td>\n",
       "      <td>0</td>\n",
       "      <td>NaN</td>\n",
       "      <td>NaN</td>\n",
       "      <td>NaN</td>\n",
       "    </tr>\n",
       "    <tr>\n",
       "      <th>162</th>\n",
       "      <td>Norte</td>\n",
       "      <td>RO</td>\n",
       "      <td>NaN</td>\n",
       "      <td>11</td>\n",
       "      <td>NaN</td>\n",
       "      <td>NaN</td>\n",
       "      <td>NaN</td>\n",
       "      <td>2020-02-29</td>\n",
       "      <td>9</td>\n",
       "      <td>1777225.0</td>\n",
       "      <td>0.0</td>\n",
       "      <td>0</td>\n",
       "      <td>0</td>\n",
       "      <td>0</td>\n",
       "      <td>NaN</td>\n",
       "      <td>NaN</td>\n",
       "      <td>NaN</td>\n",
       "    </tr>\n",
       "    <tr>\n",
       "      <th>...</th>\n",
       "      <td>...</td>\n",
       "      <td>...</td>\n",
       "      <td>...</td>\n",
       "      <td>...</td>\n",
       "      <td>...</td>\n",
       "      <td>...</td>\n",
       "      <td>...</td>\n",
       "      <td>...</td>\n",
       "      <td>...</td>\n",
       "      <td>...</td>\n",
       "      <td>...</td>\n",
       "      <td>...</td>\n",
       "      <td>...</td>\n",
       "      <td>...</td>\n",
       "      <td>...</td>\n",
       "      <td>...</td>\n",
       "      <td>...</td>\n",
       "    </tr>\n",
       "    <tr>\n",
       "      <th>4643</th>\n",
       "      <td>Centro-Oeste</td>\n",
       "      <td>DF</td>\n",
       "      <td>NaN</td>\n",
       "      <td>53</td>\n",
       "      <td>NaN</td>\n",
       "      <td>NaN</td>\n",
       "      <td>NaN</td>\n",
       "      <td>2022-06-11</td>\n",
       "      <td>23</td>\n",
       "      <td>3015268.0</td>\n",
       "      <td>740912.0</td>\n",
       "      <td>0</td>\n",
       "      <td>11699</td>\n",
       "      <td>0</td>\n",
       "      <td>NaN</td>\n",
       "      <td>NaN</td>\n",
       "      <td>NaN</td>\n",
       "    </tr>\n",
       "    <tr>\n",
       "      <th>4644</th>\n",
       "      <td>Centro-Oeste</td>\n",
       "      <td>DF</td>\n",
       "      <td>NaN</td>\n",
       "      <td>53</td>\n",
       "      <td>NaN</td>\n",
       "      <td>NaN</td>\n",
       "      <td>NaN</td>\n",
       "      <td>2022-06-12</td>\n",
       "      <td>24</td>\n",
       "      <td>3015268.0</td>\n",
       "      <td>740912.0</td>\n",
       "      <td>0</td>\n",
       "      <td>11699</td>\n",
       "      <td>0</td>\n",
       "      <td>NaN</td>\n",
       "      <td>NaN</td>\n",
       "      <td>NaN</td>\n",
       "    </tr>\n",
       "    <tr>\n",
       "      <th>4645</th>\n",
       "      <td>Centro-Oeste</td>\n",
       "      <td>DF</td>\n",
       "      <td>NaN</td>\n",
       "      <td>53</td>\n",
       "      <td>NaN</td>\n",
       "      <td>NaN</td>\n",
       "      <td>NaN</td>\n",
       "      <td>2022-06-13</td>\n",
       "      <td>24</td>\n",
       "      <td>3015268.0</td>\n",
       "      <td>749623.0</td>\n",
       "      <td>8711</td>\n",
       "      <td>11701</td>\n",
       "      <td>2</td>\n",
       "      <td>NaN</td>\n",
       "      <td>NaN</td>\n",
       "      <td>NaN</td>\n",
       "    </tr>\n",
       "    <tr>\n",
       "      <th>4646</th>\n",
       "      <td>Centro-Oeste</td>\n",
       "      <td>DF</td>\n",
       "      <td>NaN</td>\n",
       "      <td>53</td>\n",
       "      <td>NaN</td>\n",
       "      <td>NaN</td>\n",
       "      <td>NaN</td>\n",
       "      <td>2022-06-14</td>\n",
       "      <td>24</td>\n",
       "      <td>3015268.0</td>\n",
       "      <td>753025.0</td>\n",
       "      <td>3402</td>\n",
       "      <td>11702</td>\n",
       "      <td>1</td>\n",
       "      <td>NaN</td>\n",
       "      <td>NaN</td>\n",
       "      <td>NaN</td>\n",
       "    </tr>\n",
       "    <tr>\n",
       "      <th>4647</th>\n",
       "      <td>Centro-Oeste</td>\n",
       "      <td>DF</td>\n",
       "      <td>NaN</td>\n",
       "      <td>53</td>\n",
       "      <td>NaN</td>\n",
       "      <td>NaN</td>\n",
       "      <td>NaN</td>\n",
       "      <td>2022-06-15</td>\n",
       "      <td>24</td>\n",
       "      <td>3015268.0</td>\n",
       "      <td>759330.0</td>\n",
       "      <td>6305</td>\n",
       "      <td>11704</td>\n",
       "      <td>2</td>\n",
       "      <td>NaN</td>\n",
       "      <td>NaN</td>\n",
       "      <td>NaN</td>\n",
       "    </tr>\n",
       "  </tbody>\n",
       "</table>\n",
       "<p>22734 rows × 17 columns</p>\n",
       "</div>"
      ],
      "text/plain": [
       "            regiao estado municipio  coduf  codmun  codRegiaoSaude  \\\n",
       "158          Norte     RO       NaN     11     NaN             NaN   \n",
       "159          Norte     RO       NaN     11     NaN             NaN   \n",
       "160          Norte     RO       NaN     11     NaN             NaN   \n",
       "161          Norte     RO       NaN     11     NaN             NaN   \n",
       "162          Norte     RO       NaN     11     NaN             NaN   \n",
       "...            ...    ...       ...    ...     ...             ...   \n",
       "4643  Centro-Oeste     DF       NaN     53     NaN             NaN   \n",
       "4644  Centro-Oeste     DF       NaN     53     NaN             NaN   \n",
       "4645  Centro-Oeste     DF       NaN     53     NaN             NaN   \n",
       "4646  Centro-Oeste     DF       NaN     53     NaN             NaN   \n",
       "4647  Centro-Oeste     DF       NaN     53     NaN             NaN   \n",
       "\n",
       "     nomeRegiaoSaude        data  semanaEpi  populacaoTCU2019  casosAcumulado  \\\n",
       "158              NaN  2020-02-25          9         1777225.0             0.0   \n",
       "159              NaN  2020-02-26          9         1777225.0             0.0   \n",
       "160              NaN  2020-02-27          9         1777225.0             0.0   \n",
       "161              NaN  2020-02-28          9         1777225.0             0.0   \n",
       "162              NaN  2020-02-29          9         1777225.0             0.0   \n",
       "...              ...         ...        ...               ...             ...   \n",
       "4643             NaN  2022-06-11         23         3015268.0        740912.0   \n",
       "4644             NaN  2022-06-12         24         3015268.0        740912.0   \n",
       "4645             NaN  2022-06-13         24         3015268.0        749623.0   \n",
       "4646             NaN  2022-06-14         24         3015268.0        753025.0   \n",
       "4647             NaN  2022-06-15         24         3015268.0        759330.0   \n",
       "\n",
       "      casosNovos  obitosAcumulado  obitosNovos  Recuperadosnovos  \\\n",
       "158            0                0            0               NaN   \n",
       "159            0                0            0               NaN   \n",
       "160            0                0            0               NaN   \n",
       "161            0                0            0               NaN   \n",
       "162            0                0            0               NaN   \n",
       "...          ...              ...          ...               ...   \n",
       "4643           0            11699            0               NaN   \n",
       "4644           0            11699            0               NaN   \n",
       "4645        8711            11701            2               NaN   \n",
       "4646        3402            11702            1               NaN   \n",
       "4647        6305            11704            2               NaN   \n",
       "\n",
       "      emAcompanhamentoNovos  interior/metropolitana  \n",
       "158                     NaN                     NaN  \n",
       "159                     NaN                     NaN  \n",
       "160                     NaN                     NaN  \n",
       "161                     NaN                     NaN  \n",
       "162                     NaN                     NaN  \n",
       "...                     ...                     ...  \n",
       "4643                    NaN                     NaN  \n",
       "4644                    NaN                     NaN  \n",
       "4645                    NaN                     NaN  \n",
       "4646                    NaN                     NaN  \n",
       "4647                    NaN                     NaN  \n",
       "\n",
       "[22734 rows x 17 columns]"
      ]
     },
     "execution_count": 27,
     "metadata": {},
     "output_type": "execute_result"
    }
   ],
   "source": [
    "df_states"
   ]
  },
  {
   "cell_type": "code",
   "execution_count": null,
   "id": "c223fafe",
   "metadata": {},
   "outputs": [],
   "source": []
  }
 ],
 "metadata": {
  "kernelspec": {
   "display_name": "Python 3 (ipykernel)",
   "language": "python",
   "name": "python3"
  },
  "language_info": {
   "codemirror_mode": {
    "name": "ipython",
    "version": 3
   },
   "file_extension": ".py",
   "mimetype": "text/x-python",
   "name": "python",
   "nbconvert_exporter": "python",
   "pygments_lexer": "ipython3",
   "version": "3.9.7"
  }
 },
 "nbformat": 4,
 "nbformat_minor": 5
}
